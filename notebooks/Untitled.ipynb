{
 "cells": [
  {
   "cell_type": "code",
   "execution_count": 5,
   "id": "7210f44c",
   "metadata": {},
   "outputs": [],
   "source": [
    "import pandas as pd\n",
    "from sklearn.feature_extraction.text import TfidfVectorizer\n",
    "from sklearn.decomposition import PCA\n",
    "from sklearn.preprocessing import StandardScaler\n",
    "from sklearn.metrics.pairwise import cosine_similarity\n",
    "\n",
    "import pickle\n",
    "\n",
    "def fetch_data():\n",
    "    try:\n",
    "        df = pd.read_csv(\"data.csv\")\n",
    "\n",
    "        return df\n",
    "    except Exception as e:\n",
    "        print(e)\n",
    "\n",
    "def vectorize(data):\n",
    "\n",
    "    try:\n",
    "\n",
    "        vectorizer = TfidfVectorizer()\n",
    "        tfidf_matrix  = vectorizer.fit_transform(data)\n",
    "\n",
    "        pca = PCA(n_components=100)\n",
    "        pca_matrix = pca.fit_transform(tfidf_matrix.toarray())\n",
    "\n",
    "        return vectorizer, tfidf_matrix, pca, pca_matrix\n",
    "    \n",
    "    except Exception as e:\n",
    "        print(e)"
   ]
  },
  {
   "cell_type": "code",
   "execution_count": 6,
   "id": "07d4302a",
   "metadata": {},
   "outputs": [],
   "source": [
    "df = fetch_data()"
   ]
  },
  {
   "cell_type": "code",
   "execution_count": 9,
   "id": "ed30e522",
   "metadata": {},
   "outputs": [],
   "source": [
    "vectorizer, tfidf_matrix, pca, pca_matrix = vectorize(df['transformed_content'])"
   ]
  },
  {
   "cell_type": "code",
   "execution_count": 48,
   "id": "716100de",
   "metadata": {},
   "outputs": [],
   "source": [
    "sim_scores = cosine_similarity(pca_matrix, pca_matrix)"
   ]
  },
  {
   "cell_type": "code",
   "execution_count": 49,
   "id": "b906fc11",
   "metadata": {},
   "outputs": [],
   "source": [
    "url_to_id = df['url'].reset_index().set_index(\"url\")"
   ]
  },
  {
   "cell_type": "code",
   "execution_count": 50,
   "id": "865f020d",
   "metadata": {},
   "outputs": [
    {
     "data": {
      "text/plain": [
       "(2416, 2416)"
      ]
     },
     "execution_count": 50,
     "metadata": {},
     "output_type": "execute_result"
    }
   ],
   "source": [
    "sim_scores.shape"
   ]
  },
  {
   "cell_type": "code",
   "execution_count": 93,
   "id": "86cf62d1",
   "metadata": {},
   "outputs": [],
   "source": [
    "def prompt_recommend(prompt, df, top_n=10):\n",
    "    \n",
    "    user_prompt_vector = vectorizer.transform([prompt])\n",
    "    \n",
    "    sim = cosine_similarity(user_prompt_vector, tfidf_matrix).flatten() \n",
    "    \n",
    "    top_indices = sim.argsort()[-top_n:][::-1]  \n",
    "    \n",
    "    recommended_articles = df.iloc[top_indices][['url', 'title', 'content']]\n",
    "    recommended_articles['content'] = recommended_articles['content'].apply(lambda x: x[:100] if isinstance(x, str) else x)\n",
    "    return recommended_articles.T.to_dict()"
   ]
  },
  {
   "cell_type": "code",
   "execution_count": 95,
   "id": "13c595b3",
   "metadata": {},
   "outputs": [],
   "source": [
    "def recommend_articles(url, sim_scores, df, url_to_id, top_n=10):\n",
    "    \n",
    "    idx = url_to_id.loc[url]['index']\n",
    "    sim_scores = list(enumerate(sim_scores[idx]))\n",
    "    sim_scores = sorted(sim_scores, key=lambda x: x[1], reverse=True)\n",
    "    sim_scores = sim_scores[1:top_n+1]\n",
    "    top_indices = [i[0] for i in sim_scores]\n",
    "    recommended_articles = df.iloc[top_indices][['url', 'title', 'content']]\n",
    "    recommended_articles['content'] = recommended_articles['content'].apply(lambda x: x[:100] if isinstance(x, str) else x)\n",
    "    return recommended_articles.T.to_dict()"
   ]
  },
  {
   "cell_type": "code",
   "execution_count": 98,
   "id": "f9b9a823",
   "metadata": {},
   "outputs": [
    {
     "data": {
      "text/plain": [
       "{2134: {'url': 'https://aeon.co/essays/does-too-much-pornography-numb-us-to-sexual-pleasure',\n",
       "  'title': 'Pornucopia',\n",
       "  'content': 'I do not remember how old I was when I had my first encounter with pornography, but I must have been'},\n",
       " 58: {'url': 'https://aeon.co/essays/what-andrea-dworkin-missed-about-pornography',\n",
       "  'title': 'The honesty of pornography',\n",
       "  'content': 'Across at least five decades, from Susan Brownmiller to Gail Dines, some feminists have denounced po'},\n",
       " 1608: {'url': 'https://aeon.co/essays/perhaps-its-time-to-get-rid-of-the-word-pervert-altogether',\n",
       "  'title': 'Perversions',\n",
       "  'content': 'Perverts were not always the libidinous bogeymen we imagine when we think of the term today. Sexual '},\n",
       " 127: {'url': 'https://aeon.co/essays/how-will-sexbots-change-the-way-we-relate-to-one-another',\n",
       "  'title': 'Sexbot slaves',\n",
       "  'content': 'There is only one true sexbot that you can go out and buy today. Her name is Roxxxy, and she is a ‘r'},\n",
       " 998: {'url': 'https://aeon.co/essays/what-being-asexual-or-aromantic-tells-us-about-sex-and-romance',\n",
       "  'title': 'Being asexual',\n",
       "  'content': 'Definitions sometimes reveal more by what they do not say than what they do. Take asexuality for exa'},\n",
       " 739: {'url': 'https://aeon.co/essays/consent-and-refusal-are-not-the-only-talking-points-in-sex',\n",
       "  'title': 'Sex talks',\n",
       "  'content': 'Communication is essential to ethical sex. Typically, our public discussions focus on only one narro'},\n",
       " 343: {'url': 'https://aeon.co/essays/the-sex-trade-can-never-be-legalised-without-hurting-women',\n",
       "  'title': 'Prostitution is not sex work',\n",
       "  'content': 'How should governments respond to the prostitution trade? It is a question laced with deep-rooted co'},\n",
       " 463: {'url': 'https://aeon.co/essays/can-women-s-lost-libido-be-fixed-with-mere-drugs',\n",
       "  'title': 'The libido crash',\n",
       "  'content': 'In the drawer of her bedside table, Julie maintains an archive of lust. Here are the naked Polaroids'},\n",
       " 1853: {'url': 'https://aeon.co/essays/pederasts-as-monsters-and-the-problem-of-active-not-knowing',\n",
       "  'title': 'The case of Norman Douglas',\n",
       "  'content': 'The British writer Norman Douglas was so famous during his lifetime (1868-1952) that he frequently t'},\n",
       " 347: {'url': 'https://aeon.co/essays/can-architecture-improve-our-sex-lives',\n",
       "  'title': 'Room for sex',\n",
       "  'content': 'Morningside, a late-Victorian suburb on the south side of Edinburgh is an extremely good-looking pla'}}"
      ]
     },
     "execution_count": 98,
     "metadata": {},
     "output_type": "execute_result"
    }
   ],
   "source": [
    "recommend_articles(\"https://aeon.co/essays/the-body-as-amusement-park-a-history-of-masturbation\", sim_scores, df, url_to_id)"
   ]
  },
  {
   "cell_type": "code",
   "execution_count": 69,
   "id": "9f7263cb",
   "metadata": {},
   "outputs": [
    {
     "data": {
      "text/plain": [
       "0"
      ]
     },
     "execution_count": 69,
     "metadata": {},
     "output_type": "execute_result"
    }
   ],
   "source": []
  },
  {
   "cell_type": "code",
   "execution_count": 61,
   "id": "653fb0b0",
   "metadata": {},
   "outputs": [
    {
     "data": {
      "text/plain": [
       "Index(['https://aeon.co/essays/intellectual-life-is-still-catching-up-to-urbanisation',\n",
       "       'https://aeon.co/essays/why-is-simplicity-so-unreasonably-effective-at-scientific-explanation',\n",
       "       'https://aeon.co/essays/how-bad-experiences-in-childhood-lead-to-adult-illness',\n",
       "       'https://aeon.co/essays/an-enigmatic-spider-and-the-fragile-threads-of-human-memory',\n",
       "       'https://aeon.co/essays/why-should-science-have-the-last-word-on-culture',\n",
       "       'https://aeon.co/essays/we-need-to-stop-thinking-about-sex-when-it-comes-to-reproduction',\n",
       "       'https://aeon.co/essays/what-do-the-dreams-of-nonhuman-animals-say-about-their-lives',\n",
       "       'https://aeon.co/essays/a-new-field-theory-reveals-the-hidden-forces-that-guide-us',\n",
       "       'https://aeon.co/essays/the-psychologist-carl-rogers-and-the-art-of-active-listening',\n",
       "       'https://aeon.co/essays/ravensbruck-to-papal-advisor-the-life-of-wanda-poltawska',\n",
       "       ...\n",
       "       'https://aeon.co/essays/my-dismal-years-in-psychoanalysis-with-melanie-kleins-disciple',\n",
       "       'https://aeon.co/essays/how-many-dimensions-are-there-and-what-do-they-do-to-reality',\n",
       "       'https://aeon.co/essays/why-working-class-britons-loved-reading-and-debating-the-classics',\n",
       "       'https://aeon.co/essays/you-are-a-remarkable-musical-expert-you-just-don-t-know-it',\n",
       "       'https://aeon.co/essays/does-consciousness-come-from-the-brains-electromagnetic-field',\n",
       "       'https://aeon.co/essays/trumped-up-charges-of-feminist-bias-are-bad-for-science',\n",
       "       'https://aeon.co/essays/why-china-held-on-to-the-political-ideal-of-mental-hygiene',\n",
       "       'https://aeon.co/essays/why-bereavement-turns-to-activism-in-a-grief-averse-culture',\n",
       "       'https://aeon.co/essays/dance-was-ubiquitous-in-ancient-rome-what-was-its-meaning',\n",
       "       'https://aeon.co/essays/as-real-as-it-ever-gets-dennetts-conception-of-the-mind'],\n",
       "      dtype='object', name='url', length=2416)"
      ]
     },
     "execution_count": 61,
     "metadata": {},
     "output_type": "execute_result"
    }
   ],
   "source": [
    "url_to_id.index"
   ]
  },
  {
   "cell_type": "code",
   "execution_count": null,
   "id": "f044ed77",
   "metadata": {},
   "outputs": [],
   "source": []
  }
 ],
 "metadata": {
  "kernelspec": {
   "display_name": "Python 3 (ipykernel)",
   "language": "python",
   "name": "python3"
  },
  "language_info": {
   "codemirror_mode": {
    "name": "ipython",
    "version": 3
   },
   "file_extension": ".py",
   "mimetype": "text/x-python",
   "name": "python",
   "nbconvert_exporter": "python",
   "pygments_lexer": "ipython3",
   "version": "3.10.13"
  }
 },
 "nbformat": 4,
 "nbformat_minor": 5
}
